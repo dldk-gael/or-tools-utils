{
 "cells": [
  {
   "cell_type": "code",
   "execution_count": 1,
   "metadata": {},
   "outputs": [],
   "source": [
    "from model_manager import ModelManager\n",
    "from ortools.sat.python import cp_model"
   ]
  },
  {
   "cell_type": "markdown",
   "metadata": {},
   "source": [
    "### Exemple 1 : \n",
    "une contradiction dans un seul bloc "
   ]
  },
  {
   "cell_type": "code",
   "execution_count": 2,
   "metadata": {},
   "outputs": [
    {
     "name": "stdout",
     "output_type": "stream",
     "text": [
      "infeasible\n",
      "Bloc_1\n"
     ]
    }
   ],
   "source": [
    "modele_manageur = ModelManager()\n",
    "\n",
    "x = modele_manageur.model_or_tools.NewIntVar(0, 100, \"x\")\n",
    "y = modele_manageur.model_or_tools.NewIntVar(0, 200, \"y\")\n",
    "\n",
    "\n",
    "with modele_manageur.add_constraints_block(\"Bloc_1\", assumption=True) as bloc:\n",
    "    bloc.registrer_unit_equation(x >= 2)\n",
    "    bloc.registrer_unit_equation(x < 1) \n",
    "\n",
    "with modele_manageur.add_constraints_block(\"Bloc_2\", assumption=True) as bloc:\n",
    "    bloc.registrer_unit_equation(y <= 10)\n",
    "    \n",
    "with modele_manageur.add_constraints_block(\"Bloc_3\", assumption=True) as bloc:\n",
    "    bloc.registrer_unit_equation(x + y == 5)\n",
    "    \n",
    "solver = cp_model.CpSolver()\n",
    "\n",
    "status = solver.Solve(modele_manageur.model_or_tools)\n",
    "r = solver.ResponseProto().sufficient_assumptions_for_infeasibility\n",
    "if status == cp_model.INFEASIBLE:\n",
    "    print(\"infeasible\") \n",
    "else:\n",
    "    print(\"feasible\")\n",
    "\n",
    "list_bloc_problematique = modele_manageur.get_sufficient_assumptions_for_infeasibility(solver)\n",
    "for bloc_name in list_bloc_problematique:\n",
    "    print(bloc_name)"
   ]
  },
  {
   "cell_type": "markdown",
   "metadata": {},
   "source": [
    "### Exemple 2 : \n",
    "une contradiction entre deux blocs"
   ]
  },
  {
   "cell_type": "code",
   "execution_count": 3,
   "metadata": {},
   "outputs": [
    {
     "name": "stdout",
     "output_type": "stream",
     "text": [
      "infeasible\n",
      "Bloc_1\n",
      "Bloc_3\n"
     ]
    }
   ],
   "source": [
    "modele_manageur = ModelManager()\n",
    "\n",
    "x = modele_manageur.model_or_tools.NewIntVar(0, 100, \"x\")\n",
    "y = modele_manageur.model_or_tools.NewIntVar(0, 200, \"y\")\n",
    "\n",
    "\n",
    "with modele_manageur.add_constraints_block(\"Bloc_1\", assumption=True) as bloc:\n",
    "    bloc.registrer_unit_equation(x >= 6)\n",
    "\n",
    "with modele_manageur.add_constraints_block(\"Bloc_2\", assumption=True) as bloc:\n",
    "    bloc.registrer_unit_equation(y <= 10)\n",
    "    \n",
    "with modele_manageur.add_constraints_block(\"Bloc_3\", assumption=True) as bloc:\n",
    "    bloc.registrer_unit_equation(x + y == 5)\n",
    "    \n",
    "solver = cp_model.CpSolver()\n",
    "\n",
    "status = solver.Solve(modele_manageur.model_or_tools)\n",
    "r = solver.ResponseProto().sufficient_assumptions_for_infeasibility\n",
    "if status == cp_model.INFEASIBLE:\n",
    "    print(\"infeasible\") \n",
    "else:\n",
    "    print(\"feasible\")\n",
    "\n",
    "list_bloc_problematique = modele_manageur.get_sufficient_assumptions_for_infeasibility(solver)\n",
    "for bloc_name in list_bloc_problematique:\n",
    "    print(bloc_name)"
   ]
  },
  {
   "cell_type": "markdown",
   "metadata": {},
   "source": [
    "### Exemple 2 : \n",
    "une contradiction entre tous les blocs"
   ]
  },
  {
   "cell_type": "code",
   "execution_count": 6,
   "metadata": {},
   "outputs": [
    {
     "name": "stdout",
     "output_type": "stream",
     "text": [
      "infeasible\n",
      "Bloc_1\n",
      "Bloc_2\n",
      "Bloc_3\n"
     ]
    }
   ],
   "source": [
    "modele_manageur = ModelManager()\n",
    "\n",
    "x = modele_manageur.model_or_tools.NewIntVar(0, 100, \"x\")\n",
    "y = modele_manageur.model_or_tools.NewIntVar(0, 200, \"y\")\n",
    "\n",
    "\n",
    "with modele_manageur.add_constraints_block(\"Bloc_1\", assumption=True) as bloc:\n",
    "    bloc.registrer_unit_equation(x >= 3)\n",
    "\n",
    "with modele_manageur.add_constraints_block(\"Bloc_2\", assumption=True) as bloc:\n",
    "    bloc.registrer_unit_equation(y >= 3)\n",
    "    \n",
    "with modele_manageur.add_constraints_block(\"Bloc_3\", assumption=True) as bloc:\n",
    "    bloc.registrer_unit_equation(x + y == 5)\n",
    "    \n",
    "solver = cp_model.CpSolver()\n",
    "\n",
    "status = solver.Solve(modele_manageur.model_or_tools)\n",
    "r = solver.ResponseProto().sufficient_assumptions_for_infeasibility\n",
    "if status == cp_model.INFEASIBLE:\n",
    "    print(\"infeasible\") \n",
    "else:\n",
    "    print(\"feasible\")\n",
    "\n",
    "list_bloc_problematique = modele_manageur.get_sufficient_assumptions_for_infeasibility(solver)\n",
    "for bloc_name in list_bloc_problematique:\n",
    "    print(bloc_name)"
   ]
  },
  {
   "cell_type": "code",
   "execution_count": null,
   "metadata": {},
   "outputs": [],
   "source": []
  }
 ],
 "metadata": {
  "kernelspec": {
   "display_name": "Python 3",
   "language": "python",
   "name": "python3"
  },
  "language_info": {
   "codemirror_mode": {
    "name": "ipython",
    "version": 3
   },
   "file_extension": ".py",
   "mimetype": "text/x-python",
   "name": "python",
   "nbconvert_exporter": "python",
   "pygments_lexer": "ipython3",
   "version": "3.9.0"
  }
 },
 "nbformat": 4,
 "nbformat_minor": 4
}
