{
 "cells": [
  {
   "cell_type": "code",
   "execution_count": 10,
   "metadata": {},
   "outputs": [],
   "source": [
    "import plotly.graph_objects as go\n",
    "from ortools.sat.python import cp_model\n",
    "\n",
    "from tracking_solver import OptimisationWithTracking\n",
    "from job_shop import minimalJobshopSat"
   ]
  },
  {
   "cell_type": "code",
   "execution_count": 11,
   "metadata": {},
   "outputs": [],
   "source": [
    "# DEFINITION DU PROBLEME\n",
    "\n",
    "jobs_data = [  # task = (machine_id, processing_time).\n",
    "    [(0, 3), (1, 2), (2, 2)],  # Job0\n",
    "    [(0, 2), (2, 1), (1, 4)],  # Job1\n",
    "    [(1, 4), (2, 3)],  # Job2\n",
    "]\n",
    "\n",
    "model, dict_variables = minimalJobshopSat(jobs_data)\n",
    "solver = cp_model.CpSolver()"
   ]
  },
  {
   "cell_type": "code",
   "execution_count": 3,
   "metadata": {},
   "outputs": [
    {
     "data": {
      "application/vnd.jupyter.widget-view+json": {
       "model_id": "bf88455a53f44b3e904aeec187b3835a",
       "version_major": 2,
       "version_minor": 0
      },
      "text/plain": [
       "FigureWidget({\n",
       "    'data': [{'type': 'scatter', 'uid': '4a9d867f-8757-413d-81f4-e2f6fee851b8'}], 'layout': {'t…"
      ]
     },
     "metadata": {},
     "output_type": "display_data"
    }
   ],
   "source": [
    "# MISE EN PLACE DU PLOT \n",
    "fig = go.FigureWidget()\n",
    "fig.add_scatter()"
   ]
  },
  {
   "cell_type": "code",
   "execution_count": 8,
   "metadata": {},
   "outputs": [],
   "source": [
    "# RESOLUTION DU PROBLEME AVEC TRACKING EN TEMPS REEL \n",
    "\n",
    "with OptimisationWithTracking(solver, model, dict_variables) as output_queue:\n",
    "    objectifs = []\n",
    "\n",
    "    while True:\n",
    "        message = output_queue.get()\n",
    "\n",
    "        if message[\"state\"] == \"end\":\n",
    "            break\n",
    "\n",
    "        objectifs.append(message[\"objective_value\"])\n",
    "        with fig.batch_update():\n",
    "            fig.data[0].y = objectifs"
   ]
  }
 ],
 "metadata": {
  "kernelspec": {
   "display_name": "Python 3",
   "language": "python",
   "name": "python3"
  },
  "language_info": {
   "codemirror_mode": {
    "name": "ipython",
    "version": 3
   },
   "file_extension": ".py",
   "mimetype": "text/x-python",
   "name": "python",
   "nbconvert_exporter": "python",
   "pygments_lexer": "ipython3",
   "version": "3.6.8"
  }
 },
 "nbformat": 4,
 "nbformat_minor": 4
}
