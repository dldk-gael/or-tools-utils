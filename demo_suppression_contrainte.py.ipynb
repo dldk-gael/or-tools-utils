{
 "cells": [
  {
   "cell_type": "code",
   "execution_count": 1,
   "metadata": {},
   "outputs": [],
   "source": [
    "from model_manager import ModelManager\n",
    "from ortools.sat.python import cp_model"
   ]
  },
  {
   "cell_type": "code",
   "execution_count": 2,
   "metadata": {},
   "outputs": [
    {
     "name": "stdout",
     "output_type": "stream",
     "text": [
      "infeasible\n"
     ]
    }
   ],
   "source": [
    "modele_manageur = ModelManager()\n",
    "\n",
    "x = modele_manageur.model_or_tools.NewIntVar(0, 100, \"x\")\n",
    "y = modele_manageur.model_or_tools.NewIntVar(0, 200, \"y\")\n",
    "\n",
    "\n",
    "with modele_manageur.add_constraints_block(\"Bloc_1\") as bloc:\n",
    "    bloc.registrer_unit_equation(x >= 10)\n",
    "\n",
    "with modele_manageur.add_constraints_block(\"Bloc_2\") as bloc:\n",
    "    bloc.registrer_unit_equation(y <= 10)\n",
    "    \n",
    "with modele_manageur.add_constraints_block(\"Bloc_3\") as bloc:\n",
    "    bloc.registrer_unit_equation(x + y == 5)\n",
    "    \n",
    "solver = cp_model.CpSolver()\n",
    "\n",
    "status = solver.Solve(modele_manageur.model_or_tools)\n",
    "if status == cp_model.INFEASIBLE:\n",
    "    print(\"infeasible\") \n",
    "else:\n",
    "    print(\"feasible\")\n"
   ]
  },
  {
   "cell_type": "code",
   "execution_count": 3,
   "metadata": {},
   "outputs": [
    {
     "name": "stdout",
     "output_type": "stream",
     "text": [
      "feasible\n"
     ]
    }
   ],
   "source": [
    "modele_manageur.remove_hard_constraints_from_block(\"Bloc_1\")\n",
    "status = solver.Solve(modele_manageur.model_or_tools)\n",
    "if status == cp_model.INFEASIBLE:\n",
    "    print(\"infeasible\") \n",
    "else:\n",
    "    print(\"feasible\")"
   ]
  },
  {
   "cell_type": "code",
   "execution_count": null,
   "metadata": {},
   "outputs": [],
   "source": []
  }
 ],
 "metadata": {
  "kernelspec": {
   "display_name": "Python 3",
   "language": "python",
   "name": "python3"
  },
  "language_info": {
   "codemirror_mode": {
    "name": "ipython",
    "version": 3
   },
   "file_extension": ".py",
   "mimetype": "text/x-python",
   "name": "python",
   "nbconvert_exporter": "python",
   "pygments_lexer": "ipython3",
   "version": "3.9.0"
  }
 },
 "nbformat": 4,
 "nbformat_minor": 4
}
